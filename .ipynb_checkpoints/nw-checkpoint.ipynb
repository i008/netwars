{
 "cells": [
  {
   "cell_type": "code",
   "execution_count": 2,
   "metadata": {
    "collapsed": true
   },
   "outputs": [],
   "source": [
    "from bs4 import BeautifulSoup \n",
    "import requests\n",
    "\n",
    "class NwTopic(object):\n",
    "    \n",
    "    NW_URL = 'http://netwars.pl/temat/'\n",
    "    \n",
    "    def __init__(self, topic_raw_html, topic_number):\n",
    "        \n",
    "        self.soup = BeautifulSoup(topic_raw_html)\n",
    "        self.topic_number = topic_number\n",
    "        \n",
    "        if 'Nie znaleziono tematu' in soup:\n",
    "            raise ValueError('topic does not exist')\n",
    "                     \n",
    "                    \n",
    "    @classmethod\n",
    "    def from_url(cls, topic_number):\n",
    "        r = requests.get(self.NW_URL+str(topic_number))\n",
    "        if r.status_code != 200:\n",
    "            raise ValueError('failed on get-request')\n",
    "        return cls(r.text, topic_number)\n",
    "\n",
    "    @classmethod\n",
    "    def from_html(cls, topic_raw_html, topic_number):\n",
    "        \"\"\"\n",
    "        To use with already scraped data, for perfromance reasons\n",
    "        \"\"\"\n",
    "        return cls(topic_raw_html, topic_number)\n",
    "    \n",
    "    @property\n",
    "    def posts(self):\n",
    "        post_list = soup.find_all(\"div\",{\"id\": \"topic_{0!s}\".format(self.nr)})\n",
    "        if len(post_list) != 1:\n",
    "            raise ValueError('Cos tu jest nie tak')\n",
    "        return post_list\n",
    "    \n",
    "              \n",
    "class NwPost(object):\n",
    "    pass\n"
   ]
  }
 ],
 "metadata": {
  "kernelspec": {
   "display_name": "Python [Root]",
   "language": "python",
   "name": "Python [Root]"
  },
  "language_info": {
   "codemirror_mode": {
    "name": "ipython",
    "version": 3
   },
   "file_extension": ".py",
   "mimetype": "text/x-python",
   "name": "python",
   "nbconvert_exporter": "python",
   "pygments_lexer": "ipython3",
   "version": "3.5.2"
  }
 },
 "nbformat": 4,
 "nbformat_minor": 0
}
