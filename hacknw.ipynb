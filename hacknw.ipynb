{
 "cells": [
  {
   "cell_type": "code",
   "execution_count": 1,
   "metadata": {},
   "outputs": [],
   "source": [
    "import requests\n",
    "from bs4 import BeautifulSoup\n",
    "from dateutil import parser\n",
    "import datetime\n",
    "from urlparse import urljoin"
   ]
  },
  {
   "cell_type": "code",
   "execution_count": 2,
   "metadata": {},
   "outputs": [],
   "source": [
    "def cli_green(fn):\n",
    "    def wrapped(*args, **kwargs):\n",
    "        return \"\\033[92m\"+fn()\n",
    "    return wrapped\n",
    "\n",
    "\n",
    "\n",
    "def scrape_topic_page(topic_number):\n",
    "    if not isinstance(topic_number, (basestring, int)):\n",
    "        raise ValueError, \"Topic number has to be int or basestring\"\n",
    "    soup = BeautifulSoup(\n",
    "        requests.get(\n",
    "            'http://netwars.pl/temat/{0!s}'.format(topic_number)\n",
    "        ).text\n",
    "    )\n",
    "    return soup \n",
    "    \n",
    "\n",
    "\n",
    "class NW(object):\n",
    "    BASE_URL = 'http://netwars.pl/'\n",
    "    OT_FORUM_NUMBER = '4'\n",
    "    \n",
    "    def __repr__(self):\n",
    "        return '%s(%r)'%(self.__class__, self.username)\n",
    "     \n",
    "    def __init__(self, username, password):\n",
    "        self.username = username\n",
    "        self.password = password\n",
    "        self.logged_in = False\n",
    "\n",
    "    def login(self):\n",
    "        payload = {\n",
    "            'tnick':self.username,\n",
    "            'tpass':self.password\n",
    "        }\n",
    "        \n",
    "        nwsession = requests.session()\n",
    "        nwsession.post(urljoin(self.BASE_URL,'login'), payload)\n",
    "        self.nwsession = nwsession\n",
    "        self.logged_in = True\n",
    "    \n",
    "    def logout(self):\n",
    "        self.nwsession.post(urljoin(self.BASE_URL,'logout'))\n",
    "        self.logged_in = False\n",
    "        \n",
    "    def topics(self):\n",
    "        forum = self.nwsession.get(\n",
    "            self.BASE_URL+'forum/'+self.OT_FORUM_NUMBER).text\n",
    "        soup = BeautifulSoup(forum)\n",
    "        return [topic.text for topic in soup.findAll('td',{'class':'topic'})]\n",
    "\n",
    "\n",
    "\n",
    "\n",
    "\n",
    "\n",
    "\n",
    "        \n",
    "        \n",
    "        \n",
    "        \n",
    "        \n",
    "    \n",
    "    \n",
    "    \n",
    "        \n",
    "\n",
    "        \n",
    "# r = session.get('http://netwars.pl')\n",
    "# nw_time = parser.parse(r.headers['date']).replace(tzinfo=None)"
   ]
  },
  {
   "cell_type": "code",
   "execution_count": 3,
   "metadata": {},
   "outputs": [],
   "source": [
    "nw = NW('=SF=Vengeance','sorcery')"
   ]
  },
  {
   "cell_type": "code",
   "execution_count": 4,
   "metadata": {},
   "outputs": [],
   "source": [
    "nw.login()"
   ]
  },
  {
   "cell_type": "code",
   "execution_count": null,
   "metadata": {},
   "outputs": [],
   "source": [
    ""
   ]
  },
  {
   "cell_type": "code",
   "execution_count": 13,
   "metadata": {},
   "outputs": [
    {
     "data": {
      "text/plain": [
       "<div class=\"post\" id=\"post_10\"><div class=\"posthead\"><div class=\"p2_data\">2015-11-03 20:33:12</div><div class=\"p2_nick\"><span class=\"numerek_posta\">[#10]</span>\\xa0<a class=\"nick\" href=\"/user/18186\">Ryceszzz</a></div></div><div class=\"post_body\">9#<br/>\\r\\nokej, w zasadzie to nie wiem ;p <br/>\\r\\nja ju\\u017c niestety nie posiadam</div></div>"
      ]
     },
     "execution_count": 13,
     "output_type": "execute_result",
     "metadata": {}
    }
   ],
   "source": [
    "scrape_topic_page(170470).findAll('div')[50]"
   ]
  },
  {
   "cell_type": "code",
   "execution_count": 5,
   "metadata": {},
   "outputs": [
    {
     "name": "stderr",
     "output_type": "stream",
     "text": [
      "/home/crimzoid/anaconda/lib/python2.7/site-packages/bs4/__init__.py:166: UserWarning: No parser was explicitly specified, so I'm using the best available HTML parser for this system (\"lxml\"). This usually isn't a problem, but if you run this code on another system, or in a different virtual environment, it may use a different parser and behave differently.\n",
      "\n",
      "To get rid of this warning, change this:\n",
      "\n",
      " BeautifulSoup([your markup])\n",
      "\n",
      "to this:\n",
      "\n",
      " BeautifulSoup([your markup], \"lxml\")\n",
      "\n",
      "  markup_type=markup_type))\n"
     ]
    }
   ],
   "source": [
    "forum = nw.topics()"
   ]
  },
  {
   "cell_type": "code",
   "execution_count": 6,
   "metadata": {},
   "outputs": [
    {
     "data": {
      "text/plain": [
       "[u'Ksi\\u0105\\u017cki #9',\n",
       " u'Poker #58',\n",
       " u'Filmy #53',\n",
       " u'Jokes #122',\n",
       " u'Muzyka i teledyski #2',\n",
       " u'Regulamin / FAQ / Lista moderator\\xf3w',\n",
       " u'\"Poradnik Jak Wkurwi\\u0107 1000 Os\\xf3b \"',\n",
       " u'playstation polska mnie wychujalo[kkd][znwpz]',\n",
       " u'Imigranci #3',\n",
       " u'Wypiekacz do chleba ',\n",
       " u'PiS w\\u0142adza \"absolutna`15\" #1',\n",
       " u'Dragon Ball Super',\n",
       " u'Wybaczanie',\n",
       " u'Przelewy do USA',\n",
       " u'Deska: zakup',\n",
       " u'M\\xf3j brat zagin\\u0105\\u0142 [KKD]',\n",
       " u'polishsource.cz',\n",
       " u'Czujnik gazu i CO',\n",
       " u'impreza na schodach',\n",
       " u'Sprzedam / Kupi\\u0119 #19',\n",
       " u'Si\\u0142ownia - NW \\u0107wiczy razem #138',\n",
       " u'Telegram',\n",
       " u'Jaki komputer, co polecacie? #6',\n",
       " u'PANIE PRZODEM',\n",
       " u'Co z nimi jest nie tak?',\n",
       " u'Dysk SSD - jak to dzia\\u0142a?',\n",
       " u'nw best of 2015',\n",
       " u'Pi\\u0142ka No\\u017cna #39',\n",
       " u'Krak\\xf3w (kkd)',\n",
       " u'Jaka to piosenka #245487',\n",
       " u'Programowanie, co wybra\\u0107?',\n",
       " u'\"To za Syri\\u0119!\" (zamkni\\u0119ty)',\n",
       " u'NW POWER FACEBOOK',\n",
       " u'Mam c\\xf3rk\\u0119 : )',\n",
       " u'Dawna produkcja filmowa Dylar cup',\n",
       " u'NBA - 2015/16',\n",
       " u'Turcja zestrzeli\\u0142a ruski SU-24',\n",
       " u'Opony zimowe',\n",
       " u'www.aliexpress.com / dla cebulak\\xf3w',\n",
       " u'Pracownik Cyfrowego Polsatu',\n",
       " u'Darmowe bilety do turnieju pokerowego',\n",
       " u'CV - jego rodzaj',\n",
       " u'W\\u0142amanie na fb.',\n",
       " u'Problem z kompem lub netem?',\n",
       " u'The Walking Dead 6',\n",
       " u'KSW 33 wa\\u017cenie na \\u017cywo 16:00',\n",
       " u'e-papieros',\n",
       " u'NW POWER - CyberYACH za teledysk Grubsona',\n",
       " u'Computer Science 50 (CS50) - grupa studyjna',\n",
       " u'South Park - sezon 19']"
      ]
     },
     "execution_count": 6,
     "output_type": "execute_result",
     "metadata": {}
    }
   ],
   "source": [
    "forum"
   ]
  },
  {
   "cell_type": "code",
   "execution_count": null,
   "metadata": {},
   "outputs": [],
   "source": [
    ""
   ]
  }
 ],
 "metadata": {
  "kernelspec": {
   "display_name": "Python 2",
   "language": "python",
   "name": "python2"
  },
  "language_info": {
   "codemirror_mode": {
    "name": "ipython",
    "version": 2.0
   },
   "file_extension": ".py",
   "mimetype": "text/x-python",
   "name": "python",
   "nbconvert_exporter": "python",
   "pygments_lexer": "ipython2",
   "version": "2.7.10"
  }
 },
 "nbformat": 4,
 "nbformat_minor": 0
}